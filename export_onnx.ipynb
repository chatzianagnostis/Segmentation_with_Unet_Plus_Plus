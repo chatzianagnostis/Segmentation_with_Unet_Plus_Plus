{
  "cells": [
    {
      "cell_type": "markdown",
      "metadata": {
        "id": "9IxqdPk8ws8U"
      },
      "source": [
        "Export PyTorch Model to ONNX\n"
      ]
    },
    {
      "cell_type": "code",
      "execution_count": null,
      "metadata": {
        "colab": {
          "base_uri": "https://localhost:8080/"
        },
        "id": "n9vTyK-FwW-M",
        "outputId": "de12a24d-8501-4aa4-f83f-3ee21bf29069"
      },
      "outputs": [],
      "source": [
        "import torch\n",
        "import torch.onnx\n",
        "\n",
        "height, width = 2048, 1152\n",
        "\n",
        "device = torch.device(\"cuda\" if torch.cuda.is_available() else \"cpu\")\n",
        "\n",
        "model = torch.load('path-to-model')\n",
        "model.eval()\n",
        "\n",
        "input_tensor = torch.randn(1, 3, height, width, requires_grad=True).to(device)\n",
        "\n",
        "# This helps in creating a more debuggable ONNX graph\n",
        "torch.onnx.export(model,\n",
        "                  input_tensor,\n",
        "                  \"model.onnx\",\n",
        "                  verbose=True, \n",
        "                  input_names = ['input_0'], \n",
        "                  output_names = ['output'])"
      ]
    },
    {
      "cell_type": "markdown",
      "metadata": {},
      "source": [
        "Load and validate an ONNX model using ONNX Runtime"
      ]
    },
    {
      "cell_type": "code",
      "execution_count": null,
      "metadata": {},
      "outputs": [],
      "source": [
        "import onnxruntime as ort\n",
        "\n",
        "# Load the ONNX model\n",
        "onnx_model_path = \"model.onnx\"\n",
        "session = ort.InferenceSession(onnx_model_path)\n",
        "\n",
        "# Print model input and output details\n",
        "input_name = session.get_inputs()[0].name\n",
        "output_name = session.get_outputs()[0].name\n",
        "print(\"Input name:\", input_name)\n",
        "print(\"Input shape:\", session.get_inputs()[0].shape)\n",
        "print(\"Output name:\", output_name)\n",
        "print(\"Output shape:\", session.get_outputs()[0].shape)\n",
        "\n",
        "import numpy as np\n",
        "\n",
        "# Example input data, adjust according to your model's input shape\n",
        "input_data = np.random.randn(1, 3, height, width).astype(np.float32)\n",
        "# Run inference\n",
        "outputs = session.run([output_name], {input_name: input_data})\n",
        "# Print the output\n",
        "#print(\"Model output:\", outputs[0])\n"
      ]
    }
  ],
  "metadata": {
    "accelerator": "GPU",
    "colab": {
      "gpuType": "T4",
      "provenance": []
    },
    "kernelspec": {
      "display_name": "Python 3",
      "name": "python3"
    },
    "language_info": {
      "codemirror_mode": {
        "name": "ipython",
        "version": 3
      },
      "file_extension": ".py",
      "mimetype": "text/x-python",
      "name": "python",
      "nbconvert_exporter": "python",
      "pygments_lexer": "ipython3",
      "version": "3.8.0"
    }
  },
  "nbformat": 4,
  "nbformat_minor": 0
}
